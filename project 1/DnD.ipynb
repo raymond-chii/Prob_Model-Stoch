{
 "cells": [
  {
   "cell_type": "code",
   "execution_count": 32,
   "id": "3d04f09d-f967-4065-9e8a-95ec0d1935c5",
   "metadata": {},
   "outputs": [
    {
     "name": "stdout",
     "output_type": "stream",
     "text": [
      "QUESTION 1:\n",
      "part a: The probability of rolling a 18 is 0.00444\n"
     ]
    }
   ],
   "source": [
    "import random\n",
    "import matplotlib.pyplot as plt\n",
    "\n",
    "\n",
    "#### Question 1 ####\n",
    "print(\"QUESTION 1:\")\n",
    "trials = 100000\n",
    "count = 0 # the number of successful rolls\n",
    "\n",
    "for _ in range(trials):\n",
    "    d1 = random.randint(1,6)\n",
    "    d2 = random.randint(1,6)\n",
    "    d3 = random.randint(1,6)\n",
    "    if d1+d2+d3 == 18:\n",
    "        count += 1 # when it is a success, count goes up by 1\n",
    "prob = count/trials\n",
    "\n",
    "print(\"part a: The probability of rolling a 18 is\", prob)"
   ]
  },
  {
   "cell_type": "code",
   "execution_count": 33,
   "id": "9e31f331-d311-4605-b5fe-f5ccbed45b8e",
   "metadata": {},
   "outputs": [
    {
     "name": "stdout",
     "output_type": "stream",
     "text": [
      "part b: The probability of the fun method is 0.01396\n"
     ]
    }
   ],
   "source": [
    "count = 0\n",
    "for _ in range(trials):\n",
    "    max_score = 0\n",
    "    \n",
    "    for _ in range(3):\n",
    "        d1 = random.randint(1, 6)\n",
    "        d2 = random.randint(1, 6)\n",
    "        d3 = random.randint(1, 6)\n",
    "        \n",
    "        score = d1 + d2 + d3\n",
    "        max_score = max(max_score, score)\n",
    "        \n",
    "    if max_score == 18:  \n",
    "        count += 1\n",
    "\n",
    "prob = count / trials\n",
    "\n",
    "print(\"part b: The probability of the fun method is\", prob)"
   ]
  },
  {
   "cell_type": "code",
   "execution_count": 34,
   "id": "2614a5f6-1cbf-43cb-aed9-d382dcb6d750",
   "metadata": {},
   "outputs": [
    {
     "name": "stdout",
     "output_type": "stream",
     "text": [
      "part c: The probability of the fun method and to be perfect is 0.0\n"
     ]
    }
   ],
   "source": [
    "perfect_count = 0\n",
    "\n",
    "for _ in range(trials):\n",
    "    scores = []\n",
    "    for _ in range(6):\n",
    "        max_score = 0\n",
    "\n",
    "        for _ in range(3):\n",
    "            d1 = random.randint(1, 6)\n",
    "            d2 = random.randint(1, 6)\n",
    "            d3 = random.randint(1, 6)\n",
    "        \n",
    "            score = d1 + d2 + d3\n",
    "            max_score = max(max_score, score)\n",
    "\n",
    "        scores.append(max_score) # add max score to list, which doesnt matter if its not 18\n",
    "                                # since the perfect_count only goes up when all 6 scores are 18\n",
    "    if all(score == 18 for score in scores): # check if all 6 scores are 18\n",
    "        perfect_count += 1 # if so, the perfect_count goes up by 1\n",
    "\n",
    "prob = perfect_count / trials\n",
    "\n",
    "print(\"part c: The probability of the fun method and to be perfect is\", prob)"
   ]
  },
  {
   "cell_type": "code",
   "execution_count": 35,
   "id": "4776eff0-aa08-4d7f-b022-f69da6f7faeb",
   "metadata": {},
   "outputs": [
    {
     "name": "stdout",
     "output_type": "stream",
     "text": [
      "part d: The probability of the fun method and to be average is 0.0\n"
     ]
    }
   ],
   "source": [
    "average_count = 0\n",
    "\n",
    "for _ in range(trials):\n",
    "    scores = []\n",
    "    for _ in range(6):\n",
    "        max_score = 0\n",
    "\n",
    "        for _ in range(3):\n",
    "            d1 = random.randint(1, 6)\n",
    "            d2 = random.randint(1, 6)\n",
    "            d3 = random.randint(1, 6)\n",
    "        \n",
    "            score = d1 + d2 + d3\n",
    "            max_score = max(max_score, score)\n",
    "\n",
    "        scores.append(max_score) \n",
    "    if all(score == 9 for score in scores): \n",
    "        average_count += 1 \n",
    "\n",
    "prob = average_count / trials\n",
    "\n",
    "print(\"part d: The probability of the fun method and to be average is\", prob)"
   ]
  },
  {
   "cell_type": "code",
   "execution_count": 36,
   "id": "1161353e-a142-4d15-92b6-ecd8996ca6c1",
   "metadata": {},
   "outputs": [
    {
     "name": "stdout",
     "output_type": "stream",
     "text": [
      "QUESTION 2:\n",
      "part a: The average number of Troll hit points is 2, \n",
      "and the average number of fireball hits is 3\n",
      "and the probability of getting at least 3 hits is 0.25118\n"
     ]
    }
   ],
   "source": [
    "#### Question 2 ####\n",
    "print(\"QUESTION 2:\")\n",
    "\n",
    "\n",
    "averageTrollHits = 0\n",
    "# print(\"part a: The average number of Troll hits is\", averageTrollHits)\n",
    "averageFireballHits = 0\n",
    "# print(\"part a: The average number of fireball hits is\", averageFireballHits)\n",
    "count = 0\n",
    "for _ in range(trials):\n",
    "    d1 = random.randint(1, 2)\n",
    "    d2 = random.randint(1, 2)\n",
    "\n",
    "    trollD1 = random.randint(1, 4)\n",
    "    fireballDamage = d1 + d2\n",
    "    \n",
    "    averageFireballHits += fireballDamage\n",
    "    averageTrollHits += trollD1\n",
    "\n",
    "    if d1 + d2 > 3:\n",
    "        count += 1\n",
    "\n",
    "prob = count / trials\n",
    "\n",
    "print(\"part a: The average number of Troll hit points is %d, \\nand the average number of fireball hits is %d\" % (averageTrollHits/trials, averageFireballHits/trials))\n",
    "print(\"and the probability of getting at least 3 hits is\", prob)"
   ]
  },
  {
   "cell_type": "code",
   "execution_count": 37,
   "id": "53d77c2b-bdce-42cf-8270-2d76afd50a56",
   "metadata": {},
   "outputs": [
    {
     "data": {
      "image/png": "[encoded data removed]",
      "text/plain": [
       "<Figure size 640x480 with 1 Axes>"
      ]
     },
     "metadata": {},
     "output_type": "display_data"
    },
    {
     "data": {
      "image/png": "[encoded data removed]",
      "text/plain": [
       "<Figure size 640x480 with 1 Axes>"
      ]
     },
     "metadata": {},
     "output_type": "display_data"
    }
   ],
   "source": [
    "x = [1, 2, 3, 4]\n",
    "y = [1/4] * len(x) \n",
    "plt.stem(x, y)\n",
    "plt.xlabel('Outcome')\n",
    "plt.ylabel('Probability')\n",
    "plt.title('Probability Mass Function - Troll')\n",
    "plt.show()\n",
    "\n",
    "fireball_pmf = [0.25, 0.5, 0.25] \n",
    "x_values_fireball = [2, 3, 4]\n",
    "plt.stem(x_values_fireball, fireball_pmf)\n",
    "plt.xlabel('Outcome')\n",
    "plt.ylabel('Probability')\n",
    "plt.title('Probability Mass Function - Fireball')\n",
    "plt.show()"
   ]
  },
  {
   "cell_type": "code",
   "execution_count": 38,
   "id": "c02d0480-1da3-4ca8-8c57-b71667ab7857",
   "metadata": {},
   "outputs": [
    {
     "name": "stdout",
     "output_type": "stream",
     "text": [
      "part c: The probability of the Wizard slaying all is 0.34469\n",
      "part d: The probability of remain one troll alive of the expected HP is 3.9415843559812433\n"
     ]
    }
   ],
   "source": [
    "count = 0\n",
    "dcount = 0\n",
    "trolls = []\n",
    "sumofHP = 0 \n",
    "for _ in range(trials):\n",
    "    wizD1 = random.randint(1, 2)\n",
    "    wizD2 = random.randint(1, 2)\n",
    "\n",
    "    trollD1 = random.randint(1, 4)\n",
    "    trollD2 = random.randint(1, 4)\n",
    "    trollD3 = random.randint(1, 4)\n",
    "    trollD4 = random.randint(1, 4)\n",
    "    trollD5 = random.randint(1, 4)\n",
    "    trollD6 = random.randint(1, 4)\n",
    "    trolls = [trollD1, trollD2, trollD3, trollD4, trollD5, trollD6]\n",
    "    \n",
    "    if (wizD1 + wizD2) >= max(trolls):\n",
    "        count += 1\n",
    "    \n",
    "    result_list = [troll for troll in trolls if troll > (wizD1 + wizD2)]\n",
    "    \n",
    "\n",
    "    if len(result_list) == 1:\n",
    "        dcount += 1\n",
    "        sumofHP += result_list[0]\n",
    "\n",
    "    \n",
    "prob = count / trials\n",
    "partdprob = sumofHP/dcount\n",
    "\n",
    "print(\"part c: The probability of the Wizard slaying all is\", prob)\n",
    "print(\"part d: The probability of remain one troll alive of the expected HP is\", partdprob)"
   ]
  },
  {
   "cell_type": "code",
   "execution_count": 39,
   "id": "85096e46-f6ee-4894-a850-17b23217ac3b",
   "metadata": {},
   "outputs": [
    {
     "name": "stdout",
     "output_type": "stream",
     "text": [
      "part e: The expected damage is 3.67435\n",
      "part f: The probability of Keene recieves a tenure is\n"
     ]
    }
   ],
   "source": [
    "damage = 0 \n",
    "\n",
    "for _ in range(trials):\n",
    "    sword = random.randint(1, 6) + random.randint(1, 6)\n",
    "    hammer = random.randint(1, 4)\n",
    "\n",
    "    if random.randint(1, 20) > 11:\n",
    "        damage += sword\n",
    "        if random.randint(1, 20) > 11:\n",
    "            damage += hammer\n",
    "\n",
    "\n",
    "print(\"part e: The expected damage is\", damage/trials)\n",
    "print(\"part f: The probability of Keene recieves a tenure is\")"
   ]
  }
 ],
 "metadata": {
  "kernelspec": {
   "display_name": "Python 3 (ipykernel)",
   "language": "python",
   "name": "python3"
  },
  "language_info": {
   "codemirror_mode": {
    "name": "ipython",
    "version": 3
   },
   "file_extension": ".py",
   "mimetype": "text/x-python",
   "name": "python",
   "nbconvert_exporter": "python",
   "pygments_lexer": "ipython3",
   "version": "3.12.1"
  }
 },
 "nbformat": 4,
 "nbformat_minor": 5
}
